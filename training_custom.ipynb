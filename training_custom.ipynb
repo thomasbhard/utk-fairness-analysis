{
  "cells": [
    {
      "cell_type": "markdown",
      "metadata": {},
      "source": [
        "# Training the custom model in Google Colab"
      ]
    },
    {
      "cell_type": "code",
      "execution_count": null,
      "metadata": {
        "colab": {
          "base_uri": "https://localhost:8080/"
        },
        "id": "d0tCPOQr7M7-",
        "outputId": "dffcd200-bff6-4434-a4d9-be496413aaf6"
      },
      "outputs": [],
      "source": [
        "# upload dataset from drive\n",
        "from google.colab import drive\n",
        "drive.mount('/content/drive')"
      ]
    },
    {
      "cell_type": "code",
      "execution_count": null,
      "metadata": {
        "id": "Gqhhz66a7cnP"
      },
      "outputs": [],
      "source": [
        "# extract dataset\n",
        "!unzip /content/drive/pathto/UTKFaceFull.zip -d /content/UTKFaceFull"
      ]
    },
    {
      "cell_type": "code",
      "execution_count": null,
      "metadata": {
        "colab": {
          "base_uri": "https://localhost:8080/"
        },
        "id": "gTlVV-Z4_QN5",
        "outputId": "6eac2f2f-8231-41f6-c698-4e1d21221bf6"
      },
      "outputs": [],
      "source": [
        "# clone this repository for the training code\n",
        "!git clone https://github.com/thomasbhard/utk-fairness-analysis.git"
      ]
    },
    {
      "cell_type": "code",
      "execution_count": null,
      "metadata": {
        "colab": {
          "base_uri": "https://localhost:8080/"
        },
        "id": "snC3W0QR-iYR",
        "outputId": "de2ff637-6923-4853-b1dd-79215399e203"
      },
      "outputs": [],
      "source": [
        "import sys\n",
        "sys.path.append('/content/utk-fairness-analysis/training')\n",
        "from utk_training import main, default_parameters\n",
        "\n",
        "\n",
        "# set parameters for the run\n",
        "parameters = default_parameters\n",
        "parameters['EPOCHS'] = 50\n",
        "parameters['TRAIN_WITH_WEIGHTS'] = True\n",
        "parameters['output_dir'] = '/content/models'\n",
        "\n",
        "parameters"
      ]
    },
    {
      "cell_type": "code",
      "execution_count": null,
      "metadata": {
        "id": "RcXhrw7bkxE7"
      },
      "outputs": [],
      "source": [
        "!mkdir /content/models"
      ]
    },
    {
      "cell_type": "code",
      "execution_count": null,
      "metadata": {
        "colab": {
          "background_save": true,
          "base_uri": "https://localhost:8080/"
        },
        "id": "nQD4zwiaiIEY",
        "outputId": "45752b3b-c9bd-4c04-dad4-a0f0b2630042"
      },
      "outputs": [],
      "source": [
        "# train the model\n",
        "main(parameters)"
      ]
    },
    {
      "cell_type": "code",
      "execution_count": null,
      "metadata": {
        "id": "LJR1EOJAASnj"
      },
      "outputs": [],
      "source": [
        "# save the results to drive\n",
        "!cp -r '/content/models' '/content/drive/'"
      ]
    }
  ],
  "metadata": {
    "accelerator": "GPU",
    "colab": {
      "collapsed_sections": [],
      "name": "Untitled8.ipynb",
      "provenance": []
    },
    "kernelspec": {
      "display_name": "Python 3",
      "name": "python3"
    },
    "language_info": {
      "name": "python"
    }
  },
  "nbformat": 4,
  "nbformat_minor": 0
}
