{
 "cells": [
  {
   "cell_type": "markdown",
   "source": [
    "# Explore possible preprocessing methods with AIF360"
   ],
   "metadata": {}
  },
  {
   "cell_type": "code",
   "execution_count": 1,
   "source": [
    "import os\r\n",
    "import glob\r\n",
    "\r\n",
    "import numpy as np \r\n",
    "import pandas as pd\r\n",
    "import matplotlib.pyplot as plt\r\n",
    "import seaborn as sns\r\n",
    "\r\n",
    "\r\n",
    "\r\n",
    "dataset_folder_name = 'Dataset/UTKFace'\r\n",
    "\r\n",
    "IM_WIDTH = IM_HEIGHT = 198\r\n",
    "\r\n",
    "dataset_dict = {\r\n",
    "    'race_id': {\r\n",
    "        0: 'white', \r\n",
    "        1: 'black', \r\n",
    "        2: 'asian', \r\n",
    "        3: 'indian', \r\n",
    "        4: 'others'\r\n",
    "    },\r\n",
    "    'gender_id': {\r\n",
    "        0: 'male',\r\n",
    "        1: 'female'\r\n",
    "    }\r\n",
    "}\r\n",
    "\r\n",
    "dataset_dict['gender_alias'] = dict((g, i) for i, g in dataset_dict['gender_id'].items())\r\n",
    "dataset_dict['race_alias'] = dict((g, i) for i, g in dataset_dict['race_id'].items())\r\n",
    "\r\n",
    "\r\n",
    "def parse_dataset(dataset_path, ext='jpg'):\r\n",
    "    \"\"\"\r\n",
    "    Used to extract information about our dataset. It does iterate over all images and return a DataFrame with\r\n",
    "    the data (age, gender and sex) of all files.\r\n",
    "    \"\"\"\r\n",
    "    def parse_info_from_file(path):\r\n",
    "        \"\"\"\r\n",
    "        Parse information from a single file\r\n",
    "        \"\"\"\r\n",
    "        try:\r\n",
    "            filename = os.path.split(path)[1]\r\n",
    "            filename = os.path.splitext(filename)[0]\r\n",
    "            age, gender, race, _ = filename.split('_')\r\n",
    "\r\n",
    "            return int(age), int(gender), int(race)\r\n",
    "        except Exception as ex:\r\n",
    "            return None, None, None\r\n",
    "        \r\n",
    "    files = glob.glob(os.path.join(dataset_path, \"*.%s\" % ext))\r\n",
    "    \r\n",
    "    records = []\r\n",
    "    for file in files:\r\n",
    "        info = parse_info_from_file(file)\r\n",
    "        records.append(info)\r\n",
    "        \r\n",
    "    df = pd.DataFrame(records)\r\n",
    "    df['file'] = files\r\n",
    "    df.columns = ['age', 'gender', 'race', 'file']\r\n",
    "    df = df.dropna()\r\n",
    "    \r\n",
    "    return df\r\n",
    "\r\n",
    "\r\n",
    "df = parse_dataset(dataset_folder_name)\r\n",
    "\r\n",
    "bins = [0, 10, 20, 30, 40, 60, 80, np.inf]\r\n",
    "# cutting the age into bins\r\n",
    "age_binned = pd.cut(df['age'], bins, labels=[0,1,2,3,4,5,6])\r\n",
    "df['age'] = age_binned\r\n",
    "\r\n",
    "df = df.drop(columns=['file'])\r\n",
    "\r\n",
    "\r\n",
    "print(df.head())"
   ],
   "outputs": [
    {
     "output_type": "stream",
     "name": "stdout",
     "text": [
      "  age  gender  race\n",
      "0   6     0.0   0.0\n",
      "1   6     0.0   0.0\n",
      "2   6     1.0   0.0\n",
      "3   6     1.0   0.0\n",
      "4   6     1.0   0.0\n"
     ]
    }
   ],
   "metadata": {}
  },
  {
   "cell_type": "markdown",
   "source": [
    "## One vs Rest Reweighing for the group with the lowest disparate impact\r\n",
    "\r\n",
    "female asian"
   ],
   "metadata": {}
  },
  {
   "cell_type": "code",
   "execution_count": 20,
   "source": [
    "inter_groups = []\r\n",
    "\r\n",
    "for i, row in df.iterrows():\r\n",
    "    if row['race'] == 2 and row['gender'] == 1:\r\n",
    "        inter_groups.append(1)\r\n",
    "    else:\r\n",
    "        inter_groups.append(0)\r\n",
    "\r\n",
    "\r\n",
    "df['inter_group'] = inter_groups\r\n",
    "\r\n",
    "df[df['inter_group'] == 1].count()\r\n",
    "\r\n"
   ],
   "outputs": [
    {
     "output_type": "execute_result",
     "data": {
      "text/plain": [
       "age            1859\n",
       "gender         1859\n",
       "race           1859\n",
       "inter_group    1859\n",
       "dtype: int64"
      ]
     },
     "metadata": {},
     "execution_count": 20
    }
   ],
   "metadata": {}
  },
  {
   "cell_type": "code",
   "execution_count": 2,
   "source": [
    "from aif360.datasets import BinaryLabelDataset\r\n",
    "\r\n",
    "bld = BinaryLabelDataset(favorable_label=0, unfavorable_label=1, df=df, label_names=['gender'], protected_attribute_names=['race', 'age'])"
   ],
   "outputs": [],
   "metadata": {}
  },
  {
   "cell_type": "code",
   "execution_count": 6,
   "source": [
    "from aif360.algorithms.preprocessing import Reweighing\r\n",
    "\r\n",
    "\r\n",
    "RW = Reweighing([{'race': 1}], [{'race': 0}])\r\n",
    "\r\n",
    "RW.fit(bld)\r\n",
    "bld_transformed = RW.transform(bld)\r\n",
    "\r\n",
    "\r\n"
   ],
   "outputs": [],
   "metadata": {}
  },
  {
   "cell_type": "code",
   "execution_count": 7,
   "source": [
    "w_train = bld_transformed.instance_weights.ravel()"
   ],
   "outputs": [],
   "metadata": {}
  }
 ],
 "metadata": {
  "orig_nbformat": 4,
  "language_info": {
   "name": "python",
   "version": "3.7.6",
   "mimetype": "text/x-python",
   "codemirror_mode": {
    "name": "ipython",
    "version": 3
   },
   "pygments_lexer": "ipython3",
   "nbconvert_exporter": "python",
   "file_extension": ".py"
  },
  "kernelspec": {
   "name": "python3",
   "display_name": "Python 3.7.6 64-bit"
  },
  "interpreter": {
   "hash": "41a84036aa604917d7497ee77bf20aadd6bf6e037d12a4d13ab984fb2ace29af"
  }
 },
 "nbformat": 4,
 "nbformat_minor": 2
}