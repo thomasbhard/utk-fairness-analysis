{
 "cells": [],
 "metadata": {
  "interpreter": {
   "hash": "41a84036aa604917d7497ee77bf20aadd6bf6e037d12a4d13ab984fb2ace29af"
  },
  "kernelspec": {
   "display_name": "Python 3.7.6 64-bit",
   "name": "python3"
  },
  "language_info": {
   "codemirror_mode": {
    "name": "ipython",
    "version": 3
   },
   "file_extension": ".py",
   "mimetype": "text/x-python",
   "name": "python",
   "nbconvert_exporter": "python",
   "pygments_lexer": "ipython3",
   "version": "3.7.6"
  },
  "orig_nbformat": 4
 },
 "nbformat": 4,
 "nbformat_minor": 2
}
