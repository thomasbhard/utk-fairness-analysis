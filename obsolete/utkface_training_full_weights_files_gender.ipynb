{
  "nbformat": 4,
  "nbformat_minor": 2,
  "metadata": {
    "colab": {
      "name": "utkface_training_full_weights.ipynb",
      "provenance": [],
      "collapsed_sections": []
    },
    "kernelspec": {
      "name": "python3",
      "display_name": "Python 3.7.6 64-bit"
    },
    "language_info": {
      "name": "python",
      "version": "3.7.6",
      "mimetype": "text/x-python",
      "codemirror_mode": {
        "name": "ipython",
        "version": 3
      },
      "pygments_lexer": "ipython3",
      "nbconvert_exporter": "python",
      "file_extension": ".py"
    },
    "accelerator": "GPU",
    "interpreter": {
      "hash": "41a84036aa604917d7497ee77bf20aadd6bf6e037d12a4d13ab984fb2ace29af"
    }
  },
  "cells": [
    {
      "cell_type": "code",
      "execution_count": null,
      "source": [
        "!unzip UTKFaceFull.zip"
      ],
      "outputs": [],
      "metadata": {
        "id": "aMlmEhY64wwj"
      }
    },
    {
      "cell_type": "code",
      "execution_count": 9,
      "source": [
        "import os\r\n",
        "import glob\r\n",
        "\r\n",
        "import numpy as np \r\n",
        "import pandas as pd\r\n",
        "import matplotlib.pyplot as plt\r\n",
        "import seaborn as sns\r\n",
        "from tensorflow.keras.utils import to_categorical\r\n",
        "from PIL import Image\r\n",
        "\r\n",
        "dataset_folder_name = 'dataset/UTKFace'\r\n",
        "outputfile_name = \"df_predictions_all_test.csv\"\r\n",
        "\r\n",
        "\r\n",
        "TRAIN_TEST_SPLIT = 0.7\r\n",
        "IM_WIDTH = IM_HEIGHT = 198\r\n",
        "\r\n",
        "TRAIN_WITH_WEIGTHS = True\r\n",
        "\r\n",
        "\r\n",
        "dataset_dict = {\r\n",
        "    'race_id': {\r\n",
        "        0: 'white', \r\n",
        "        1: 'black', \r\n",
        "        2: 'asian', \r\n",
        "        3: 'indian', \r\n",
        "        4: 'others'\r\n",
        "    },\r\n",
        "    'gender_id': {\r\n",
        "        0: 'male',\r\n",
        "        1: 'female'\r\n",
        "    }\r\n",
        "}\r\n",
        "\r\n",
        "dataset_dict['gender_alias'] = dict((g, i) for i, g in dataset_dict['gender_id'].items())\r\n",
        "dataset_dict['race_alias'] = dict((g, i) for i, g in dataset_dict['race_id'].items())"
      ],
      "outputs": [],
      "metadata": {}
    },
    {
      "cell_type": "code",
      "execution_count": 10,
      "source": [
        "#weights = {'female': {'white': {'weight': 1.0000859768999493, 'total': 1388}, 'black': {'weight': 1.0000947320909475, 'total': 655}, 'asian': {'weight': 0.9996453453531876, 'total': 568}, 'indian': {'weight': 1.000131283142888, 'total': 523}, 'others': {'weight': 1.0001248417406206, 'total': 298}}, 'male': {'white': {'weight': 1.00007922120209, 'total': 1616}, 'black': {'weight': 0.9998653674745138, 'total': 681}, 'asian': {'weight': 0.999727850814823, 'total': 459}, 'indian': {'weight': 0.9999673852528987, 'total': 637}, 'others': {'weight': 1.0001095340344832, 'total': 215}}}\r\n",
        "weights = {'female': 1.1, 'male': 0.90}\r\n",
        "                  #sample_weights.append(weights[dataset_dict['gender_id'][gender]][dataset_dict['race_id'][race]]['weight'])\r\n",
        "\r\n",
        "def get_weight(gender, age, race):\r\n",
        "    return weights[dataset_dict['gender_id'][gender]]\r\n",
        "\r\n",
        "\r\n",
        "get_weight(0,0,0)"
      ],
      "outputs": [
        {
          "output_type": "execute_result",
          "data": {
            "text/plain": [
              "0.9"
            ]
          },
          "metadata": {},
          "execution_count": 10
        }
      ],
      "metadata": {}
    },
    {
      "cell_type": "code",
      "execution_count": 11,
      "source": [
        "def parse_dataset(dataset_path, ext='jpg'):\r\n",
        "    \"\"\"\r\n",
        "    Used to extract information about our dataset. It does iterate over all images and return a DataFrame with\r\n",
        "    the data (age, gender and sex) of all files.\r\n",
        "    \"\"\"\r\n",
        "    def parse_info_from_file(path):\r\n",
        "        \"\"\"\r\n",
        "        Parse information from a single file\r\n",
        "        \"\"\"\r\n",
        "        try:\r\n",
        "            filename = os.path.split(path)[1]\r\n",
        "            filename = os.path.splitext(filename)[0]\r\n",
        "            age, gender, race, _ = filename.split('_')\r\n",
        "\r\n",
        "            return int(age), dataset_dict['gender_id'][int(gender)], dataset_dict['race_id'][int(race)]\r\n",
        "        except Exception as ex:\r\n",
        "            return None, None, None\r\n",
        "        \r\n",
        "    files = glob.glob(os.path.join(dataset_path, \"*.%s\" % ext))\r\n",
        "    \r\n",
        "    records = []\r\n",
        "    for file in files:\r\n",
        "        info = parse_info_from_file(file)\r\n",
        "        records.append(info)\r\n",
        "        \r\n",
        "    df = pd.DataFrame(records)\r\n",
        "    df['file'] = files\r\n",
        "    df.columns = ['age', 'gender', 'race', 'file']\r\n",
        "    df = df.dropna()\r\n",
        "    \r\n",
        "    return df\r\n",
        "\r\n",
        "\r\n",
        "df = parse_dataset(dataset_folder_name)\r\n",
        "print(df.head())"
      ],
      "outputs": [
        {
          "output_type": "stream",
          "name": "stdout",
          "text": [
            "     age  gender   race                                               file\n",
            "0  100.0    male  white  dataset/UTKFace\\100_0_0_20170112213500903.jpg....\n",
            "1  100.0    male  white  dataset/UTKFace\\100_0_0_20170112215240346.jpg....\n",
            "2  100.0  female  white  dataset/UTKFace\\100_1_0_20170110183726390.jpg....\n",
            "3  100.0  female  white  dataset/UTKFace\\100_1_0_20170112213001988.jpg....\n",
            "4  100.0  female  white  dataset/UTKFace\\100_1_0_20170112213303693.jpg....\n"
          ]
        }
      ],
      "metadata": {}
    },
    {
      "cell_type": "code",
      "execution_count": 20,
      "source": [
        "class UtkFaceDataGenerator():\r\n",
        "    \"\"\"\r\n",
        "    Data generator for the UTKFace dataset. This class should be used when training our Keras multi-output model.\r\n",
        "    \"\"\"\r\n",
        "    def __init__(self, df):\r\n",
        "        self.df = df\r\n",
        "        \r\n",
        "    def generate_split_indexes(self):\r\n",
        "        p = np.random.RandomState(seed=42).permutation(len(self.df))\r\n",
        "        train_up_to = int(len(self.df) * TRAIN_TEST_SPLIT)\r\n",
        "        train_idx = p[:train_up_to]\r\n",
        "        test_idx = p[train_up_to:]\r\n",
        "\r\n",
        "        train_up_to = int(train_up_to * TRAIN_TEST_SPLIT)\r\n",
        "        train_idx, valid_idx = train_idx[:train_up_to], train_idx[train_up_to:]\r\n",
        "        \r\n",
        "        # converts alias to id\r\n",
        "        self.df['gender_id'] = self.df['gender'].map(lambda gender: dataset_dict['gender_alias'][gender])\r\n",
        "        self.df['race_id'] = self.df['race'].map(lambda race: dataset_dict['race_alias'][race])\r\n",
        "\r\n",
        "        self.max_age = self.df['age'].max()\r\n",
        "        \r\n",
        "        return train_idx, valid_idx, test_idx\r\n",
        "    \r\n",
        "    def preprocess_image(self, img_path):\r\n",
        "        \"\"\"\r\n",
        "        Used to perform some minor preprocessing on the image before inputting into the network.\r\n",
        "        \"\"\"\r\n",
        "        im = Image.open(img_path)\r\n",
        "        im = im.resize((IM_WIDTH, IM_HEIGHT))\r\n",
        "        im = np.array(im) / 255.0\r\n",
        "        \r\n",
        "        return im\r\n",
        "        \r\n",
        "    def generate_images(self, image_idx, is_training, batch_size=16, include_weights=False, include_info=False):\r\n",
        "        \"\"\"\r\n",
        "        Used to generate a batch with images when training/testing/validating our Keras model.\r\n",
        "        \"\"\"\r\n",
        "        \r\n",
        "        # arrays to store our batched data\r\n",
        "        images, ages, races, genders = [], [], [], []\r\n",
        "\r\n",
        "        # weights\r\n",
        "        sample_weights = []\r\n",
        "        files = []\r\n",
        "        while True:\r\n",
        "            for idx in image_idx:\r\n",
        "                person = self.df.iloc[idx]\r\n",
        "\r\n",
        "                file = person['file']\r\n",
        "\r\n",
        "                gender = person['gender_id']\r\n",
        "                genders.append(to_categorical(gender, len(dataset_dict['gender_id'])))\r\n",
        "\r\n",
        "                im = self.preprocess_image(file)\r\n",
        "                images.append(im)\r\n",
        "\r\n",
        "                age = person['age']\r\n",
        "                race = person['race_id']\r\n",
        "\r\n",
        "\r\n",
        "                if include_info:\r\n",
        "                  ages.append(age / self.max_age)\r\n",
        "                  races.append(to_categorical(race, len(dataset_dict['race_id'])))\r\n",
        "\r\n",
        "                  files.append(file)\r\n",
        "                \r\n",
        "                \r\n",
        "                if include_weights:\r\n",
        "                  sample_weights.append(get_weight(gender, age, race))\r\n",
        "\r\n",
        "                \r\n",
        "                # yielding condition\r\n",
        "                if len(images) >= batch_size:\r\n",
        "                    if include_info and include_weights:\r\n",
        "                      yield np.array(images), np.array(genders), np.array(sample_weights), np.array(files), np.array(ages), np.array(races)\r\n",
        "                    \r\n",
        "                    elif include_info:\r\n",
        "                      yield np.array(images), np.array(genders), np.array(files), np.array(age), np.array(race)\r\n",
        "\r\n",
        "                    elif include_weights:\r\n",
        "                      yield np.array(images), np.array(genders), np.array(sample_weights)\r\n",
        "\r\n",
        "                    else:\r\n",
        "                      yield np.array(images), np.array(genders)\r\n",
        "\r\n",
        "                    images, ages, races, genders, sample_weights, files = [], [], [], [], [], []\r\n",
        "                    \r\n",
        "            if not is_training:\r\n",
        "                break\r\n",
        "                \r\n",
        "data_generator = UtkFaceDataGenerator(df)\r\n",
        "train_idx, valid_idx, test_idx = data_generator.generate_split_indexes()"
      ],
      "outputs": [],
      "metadata": {}
    },
    {
      "cell_type": "code",
      "execution_count": 13,
      "source": [
        "from keras.models import Model\r\n",
        "from keras.layers import BatchNormalization\r\n",
        "from keras.layers.convolutional import Conv2D\r\n",
        "from keras.layers.convolutional import MaxPooling2D\r\n",
        "from keras.layers.core import Activation\r\n",
        "from keras.layers.core import Dropout\r\n",
        "from keras.layers.core import Lambda\r\n",
        "from keras.layers.core import Dense\r\n",
        "from keras.layers import Flatten\r\n",
        "from keras.layers import Input\r\n",
        "import tensorflow as tf\r\n",
        "\r\n",
        "class UtkMultiOutputModel():\r\n",
        "    \"\"\"\r\n",
        "    Used to generate our multi-output model. This CNN contains three branches, one for age, other for \r\n",
        "    sex and another for race. Each branch contains a sequence of Convolutional Layers that is defined\r\n",
        "    on the make_default_hidden_layers method.\r\n",
        "    \"\"\"\r\n",
        "    def make_default_hidden_layers(self, inputs):\r\n",
        "        \"\"\"\r\n",
        "        Used to generate a default set of hidden layers. The structure used in this network is defined as:\r\n",
        "        \r\n",
        "        Conv2D -> BatchNormalization -> Pooling -> Dropout\r\n",
        "        \"\"\"\r\n",
        "        x = Conv2D(16, (3, 3), padding=\"same\")(inputs)\r\n",
        "        x = Activation(\"relu\")(x)\r\n",
        "        x = BatchNormalization(axis=-1)(x)\r\n",
        "        x = MaxPooling2D(pool_size=(3, 3))(x)\r\n",
        "        x = Dropout(0.25)(x)\r\n",
        "\r\n",
        "        x = Conv2D(32, (3, 3), padding=\"same\")(x)\r\n",
        "        x = Activation(\"relu\")(x)\r\n",
        "        x = BatchNormalization(axis=-1)(x)\r\n",
        "        x = MaxPooling2D(pool_size=(2, 2))(x)\r\n",
        "        x = Dropout(0.25)(x)\r\n",
        "\r\n",
        "        x = Conv2D(32, (3, 3), padding=\"same\")(x)\r\n",
        "        x = Activation(\"relu\")(x)\r\n",
        "        x = BatchNormalization(axis=-1)(x)\r\n",
        "        x = MaxPooling2D(pool_size=(2, 2))(x)\r\n",
        "        x = Dropout(0.25)(x)\r\n",
        "\r\n",
        "        return x\r\n",
        "\r\n",
        "\r\n",
        "    def build_gender_branch(self, inputs, num_genders=2):\r\n",
        "        \"\"\"\r\n",
        "        Used to build the gender branch of our face recognition network.\r\n",
        "        This branch is composed of three Conv -> BN -> Pool -> Dropout blocks, \r\n",
        "        followed by the Dense output layer.\r\n",
        "        \"\"\"\r\n",
        "        x = Lambda(lambda c: tf.image.rgb_to_grayscale(c))(inputs)\r\n",
        "\r\n",
        "        x = self.make_default_hidden_layers(inputs)\r\n",
        "\r\n",
        "        x = Flatten()(x)\r\n",
        "        x = Dense(128)(x)\r\n",
        "        x = Activation(\"relu\")(x)\r\n",
        "        x = BatchNormalization()(x)\r\n",
        "        x = Dropout(0.5)(x)\r\n",
        "        x = Dense(num_genders)(x)\r\n",
        "        x = Activation(\"sigmoid\", name=\"gender_output\")(x)\r\n",
        "\r\n",
        "        return x\r\n",
        "\r\n",
        "\r\n",
        "    def assemble_full_model(self, width, height):\r\n",
        "        \"\"\"\r\n",
        "        Used to assemble our multi-output model CNN.\r\n",
        "        \"\"\"\r\n",
        "        input_shape = (height, width, 3)\r\n",
        "\r\n",
        "        inputs = Input(shape=input_shape)\r\n",
        "\r\n",
        "        gender_branch = self.build_gender_branch(inputs)\r\n",
        "\r\n",
        "        model = Model(inputs=inputs,\r\n",
        "                     outputs = gender_branch,\r\n",
        "                     name=\"face_net\")\r\n",
        "\r\n",
        "        return model\r\n",
        "\r\n",
        "\r\n",
        "    \r\n",
        "model = UtkMultiOutputModel().assemble_full_model(IM_WIDTH, IM_HEIGHT)\r\n",
        "\r\n",
        "model.summary()\r\n"
      ],
      "outputs": [
        {
          "output_type": "stream",
          "name": "stdout",
          "text": [
            "Model: \"face_net\"\n",
            "_________________________________________________________________\n",
            "Layer (type)                 Output Shape              Param #   \n",
            "=================================================================\n",
            "input_2 (InputLayer)         [(None, 198, 198, 3)]     0         \n",
            "_________________________________________________________________\n",
            "conv2d_3 (Conv2D)            (None, 198, 198, 16)      448       \n",
            "_________________________________________________________________\n",
            "activation_4 (Activation)    (None, 198, 198, 16)      0         \n",
            "_________________________________________________________________\n",
            "batch_normalization_4 (Batch (None, 198, 198, 16)      64        \n",
            "_________________________________________________________________\n",
            "max_pooling2d_3 (MaxPooling2 (None, 66, 66, 16)        0         \n",
            "_________________________________________________________________\n",
            "dropout_4 (Dropout)          (None, 66, 66, 16)        0         \n",
            "_________________________________________________________________\n",
            "conv2d_4 (Conv2D)            (None, 66, 66, 32)        4640      \n",
            "_________________________________________________________________\n",
            "activation_5 (Activation)    (None, 66, 66, 32)        0         \n",
            "_________________________________________________________________\n",
            "batch_normalization_5 (Batch (None, 66, 66, 32)        128       \n",
            "_________________________________________________________________\n",
            "max_pooling2d_4 (MaxPooling2 (None, 33, 33, 32)        0         \n",
            "_________________________________________________________________\n",
            "dropout_5 (Dropout)          (None, 33, 33, 32)        0         \n",
            "_________________________________________________________________\n",
            "conv2d_5 (Conv2D)            (None, 33, 33, 32)        9248      \n",
            "_________________________________________________________________\n",
            "activation_6 (Activation)    (None, 33, 33, 32)        0         \n",
            "_________________________________________________________________\n",
            "batch_normalization_6 (Batch (None, 33, 33, 32)        128       \n",
            "_________________________________________________________________\n",
            "max_pooling2d_5 (MaxPooling2 (None, 16, 16, 32)        0         \n",
            "_________________________________________________________________\n",
            "dropout_6 (Dropout)          (None, 16, 16, 32)        0         \n",
            "_________________________________________________________________\n",
            "flatten_1 (Flatten)          (None, 8192)              0         \n",
            "_________________________________________________________________\n",
            "dense_2 (Dense)              (None, 128)               1048704   \n",
            "_________________________________________________________________\n",
            "activation_7 (Activation)    (None, 128)               0         \n",
            "_________________________________________________________________\n",
            "batch_normalization_7 (Batch (None, 128)               512       \n",
            "_________________________________________________________________\n",
            "dropout_7 (Dropout)          (None, 128)               0         \n",
            "_________________________________________________________________\n",
            "dense_3 (Dense)              (None, 2)                 258       \n",
            "_________________________________________________________________\n",
            "gender_output (Activation)   (None, 2)                 0         \n",
            "=================================================================\n",
            "Total params: 1,064,130\n",
            "Trainable params: 1,063,714\n",
            "Non-trainable params: 416\n",
            "_________________________________________________________________\n"
          ]
        }
      ],
      "metadata": {
        "colab": {
          "base_uri": "https://localhost:8080/"
        },
        "id": "1ReM53Ld46Gr",
        "outputId": "1419290b-859d-47f6-ea70-32193e98081c"
      }
    },
    {
      "cell_type": "code",
      "execution_count": 14,
      "source": [
        "from tensorflow.keras.optimizers import Adam\r\n",
        "\r\n",
        "\r\n",
        "init_lr = 1e-4\r\n",
        "epochs = 1\r\n",
        "\r\n",
        "opt = Adam(lr=init_lr, decay=init_lr / epochs)\r\n",
        "\r\n",
        "model.compile(optimizer=opt, \r\n",
        "              loss='binary_crossentropy',\r\n",
        "              loss_weights= 0.1,\r\n",
        "              metrics= 'accuracy')"
      ],
      "outputs": [],
      "metadata": {}
    },
    {
      "cell_type": "code",
      "execution_count": 15,
      "source": [
        "from keras.callbacks import ModelCheckpoint\r\n",
        "\r\n",
        "batch_size = 32\r\n",
        "valid_batch_size = 32\r\n",
        "train_gen = data_generator.generate_images(train_idx, is_training=True, batch_size=batch_size, include_weights=TRAIN_WITH_WEIGTHS)\r\n",
        "valid_gen = data_generator.generate_images(valid_idx, is_training=True, batch_size=valid_batch_size, include_weights=TRAIN_WITH_WEIGTHS)\r\n",
        "\r\n",
        "callbacks = [\r\n",
        "    ModelCheckpoint(\"./model_checkpoint\", monitor='val_loss')\r\n",
        "]\r\n",
        "\r\n",
        "history = model.fit(train_gen,\r\n",
        "                    steps_per_epoch=len(train_idx)//batch_size,\r\n",
        "                    epochs=epochs,\r\n",
        "                    callbacks=callbacks,\r\n",
        "                    validation_data=valid_gen,\r\n",
        "                    validation_steps=len(valid_idx)//valid_batch_size)"
      ],
      "outputs": [
        {
          "output_type": "stream",
          "name": "stdout",
          "text": [
            "362/362 [==============================] - 651s 2s/step - loss: 0.0749 - accuracy: 0.6890 - val_loss: 0.1093 - val_accuracy: 0.5462\n",
            "INFO:tensorflow:Assets written to: .\\model_checkpoint\\assets\n"
          ]
        }
      ],
      "metadata": {
        "colab": {
          "base_uri": "https://localhost:8080/"
        },
        "id": "sXmta98h5AeB",
        "outputId": "a2d836a6-3562-4511-d80c-2ab3d6943139"
      }
    },
    {
      "cell_type": "code",
      "execution_count": 16,
      "source": [
        "plt.plot(history.history['accuracy'])\r\n",
        "plt.plot(history.history['val_accuracy'])\r\n",
        "plt.title('model accuracy')\r\n",
        "plt.ylabel('accuracy')\r\n",
        "plt.xlabel('epoch')\r\n",
        "plt.legend(['train', 'val'], loc='upper left')\r\n",
        "plt.show()"
      ],
      "outputs": [
        {
          "output_type": "display_data",
          "data": {
            "image/png": "[encoded data removed]",
            "text/plain": [
              "<Figure size 432x288 with 1 Axes>"
            ]
          },
          "metadata": {
            "needs_background": "light"
          }
        }
      ],
      "metadata": {
        "id": "c2ny3d36AaDg",
        "colab": {
          "base_uri": "https://localhost:8080/",
          "height": 238
        },
        "outputId": "0b1faee9-c49c-4287-8cc4-a8ee11eec2b7"
      }
    },
    {
      "cell_type": "code",
      "execution_count": 17,
      "source": [
        "test_batch_size = 128\r\n",
        "test_generator = data_generator.generate_images(test_idx, is_training=False, batch_size=test_batch_size)\r\n",
        "gender_pred = model.predict_generator(test_generator, steps=len(test_idx)//test_batch_size)"
      ],
      "outputs": [
        {
          "output_type": "stream",
          "name": "stderr",
          "text": [
            "C:\\Users\\thoma\\AppData\\Local\\Programs\\Python\\Python37\\lib\\site-packages\\tensorflow\\python\\keras\\engine\\training.py:1905: UserWarning: `Model.predict_generator` is deprecated and will be removed in a future version. Please use `Model.predict`, which supports generators.\n",
            "  warnings.warn('`Model.predict_generator` is deprecated and '\n"
          ]
        }
      ],
      "metadata": {
        "colab": {
          "base_uri": "https://localhost:8080/"
        },
        "id": "F9Fij3EaUYKK",
        "outputId": "210a415c-a95b-46a7-ba51-af4d3f8e7163"
      }
    },
    {
      "cell_type": "code",
      "execution_count": 21,
      "source": [
        "test_generator = data_generator.generate_images(test_idx, is_training=False, batch_size=test_batch_size, include_weights=True, include_info=True)\r\n",
        "samples = 0\r\n",
        "images, age_true, race_true, gender_true, sample_weights, files = [], [], [], [], [], []\r\n",
        "for test_batch in test_generator:\r\n",
        "    image = test_batch[0]\r\n",
        "    \r\n",
        "    images.extend(image)\r\n",
        "    gender_true.extend(test_batch[1])\r\n",
        "\r\n",
        "    sample_weights.extend(test_batch[2])\r\n",
        "    files.extend(test_batch[3])\r\n",
        "    age_true.extend(test_batch[4])\r\n",
        "    race_true.extend(test_batch[5])\r\n",
        "    \r\n",
        "age_true = np.array(age_true)\r\n",
        "race_true = np.array(race_true)\r\n",
        "gender_true = np.array(gender_true)\r\n",
        "\r\n",
        "race_true, gender_true = race_true.argmax(axis=-1), gender_true.argmax(axis=-1)\r\n",
        "gender_pred = gender_pred.argmax(axis=-1)\r\n",
        "\r\n",
        "age_true = age_true * data_generator.max_age"
      ],
      "outputs": [],
      "metadata": {
        "id": "gyEiqloIU88y"
      }
    },
    {
      "cell_type": "code",
      "execution_count": 22,
      "source": [
        "from sklearn.metrics import classification_report\r\n",
        "\r\n",
        "cr_gender = classification_report(gender_true, gender_pred, target_names=dataset_dict['gender_alias'].keys())\r\n",
        "print(cr_gender)"
      ],
      "outputs": [
        {
          "output_type": "stream",
          "name": "stdout",
          "text": [
            "              precision    recall  f1-score   support\n",
            "\n",
            "        male       0.53      1.00      0.70      3691\n",
            "      female       0.97      0.04      0.08      3349\n",
            "\n",
            "    accuracy                           0.54      7040\n",
            "   macro avg       0.75      0.52      0.39      7040\n",
            "weighted avg       0.74      0.54      0.40      7040\n",
            "\n"
          ]
        }
      ],
      "metadata": {
        "colab": {
          "base_uri": "https://localhost:8080/"
        },
        "id": "zOdJh_kMVrka",
        "outputId": "d700d1ae-d740-439e-c504-6b15b2005f27"
      }
    },
    {
      "cell_type": "code",
      "execution_count": 23,
      "source": [
        "df_prediction = pd.DataFrame({'age_true': age_true, 'race_true': race_true, 'gender_true': gender_true, 'gender_pred': gender_pred})\r\n",
        "df_prediction = df_prediction.round(0).astype(int)\r\n",
        "df_prediction['weights'] = sample_weights\r\n",
        "df_prediction['files'] = files\r\n",
        "df_prediction.head()"
      ],
      "outputs": [
        {
          "output_type": "execute_result",
          "data": {
            "text/html": [
              "<div>\n",
              "<style scoped>\n",
              "    .dataframe tbody tr th:only-of-type {\n",
              "        vertical-align: middle;\n",
              "    }\n",
              "\n",
              "    .dataframe tbody tr th {\n",
              "        vertical-align: top;\n",
              "    }\n",
              "\n",
              "    .dataframe thead th {\n",
              "        text-align: right;\n",
              "    }\n",
              "</style>\n",
              "<table border=\"1\" class=\"dataframe\">\n",
              "  <thead>\n",
              "    <tr style=\"text-align: right;\">\n",
              "      <th></th>\n",
              "      <th>age_true</th>\n",
              "      <th>race_true</th>\n",
              "      <th>gender_true</th>\n",
              "      <th>gender_pred</th>\n",
              "      <th>weights</th>\n",
              "      <th>files</th>\n",
              "    </tr>\n",
              "  </thead>\n",
              "  <tbody>\n",
              "    <tr>\n",
              "      <th>0</th>\n",
              "      <td>29</td>\n",
              "      <td>4</td>\n",
              "      <td>0</td>\n",
              "      <td>0</td>\n",
              "      <td>0.9</td>\n",
              "      <td>dataset/UTKFace\\29_0_4_20170103235840396.jpg.c...</td>\n",
              "    </tr>\n",
              "    <tr>\n",
              "      <th>1</th>\n",
              "      <td>60</td>\n",
              "      <td>1</td>\n",
              "      <td>1</td>\n",
              "      <td>0</td>\n",
              "      <td>1.1</td>\n",
              "      <td>dataset/UTKFace\\60_1_1_20170113185112295.jpg.c...</td>\n",
              "    </tr>\n",
              "    <tr>\n",
              "      <th>2</th>\n",
              "      <td>5</td>\n",
              "      <td>4</td>\n",
              "      <td>1</td>\n",
              "      <td>0</td>\n",
              "      <td>1.1</td>\n",
              "      <td>dataset/UTKFace\\5_1_4_20170116232419298.jpg.ch...</td>\n",
              "    </tr>\n",
              "    <tr>\n",
              "      <th>3</th>\n",
              "      <td>26</td>\n",
              "      <td>3</td>\n",
              "      <td>1</td>\n",
              "      <td>0</td>\n",
              "      <td>1.1</td>\n",
              "      <td>dataset/UTKFace\\26_1_3_20170119180953860.jpg.c...</td>\n",
              "    </tr>\n",
              "    <tr>\n",
              "      <th>4</th>\n",
              "      <td>16</td>\n",
              "      <td>0</td>\n",
              "      <td>0</td>\n",
              "      <td>0</td>\n",
              "      <td>0.9</td>\n",
              "      <td>dataset/UTKFace\\16_0_0_20170110232450588.jpg.c...</td>\n",
              "    </tr>\n",
              "  </tbody>\n",
              "</table>\n",
              "</div>"
            ],
            "text/plain": [
              "   age_true  race_true  gender_true  gender_pred  weights  \\\n",
              "0        29          4            0            0      0.9   \n",
              "1        60          1            1            0      1.1   \n",
              "2         5          4            1            0      1.1   \n",
              "3        26          3            1            0      1.1   \n",
              "4        16          0            0            0      0.9   \n",
              "\n",
              "                                               files  \n",
              "0  dataset/UTKFace\\29_0_4_20170103235840396.jpg.c...  \n",
              "1  dataset/UTKFace\\60_1_1_20170113185112295.jpg.c...  \n",
              "2  dataset/UTKFace\\5_1_4_20170116232419298.jpg.ch...  \n",
              "3  dataset/UTKFace\\26_1_3_20170119180953860.jpg.c...  \n",
              "4  dataset/UTKFace\\16_0_0_20170110232450588.jpg.c...  "
            ]
          },
          "metadata": {},
          "execution_count": 23
        }
      ],
      "metadata": {
        "colab": {
          "base_uri": "https://localhost:8080/",
          "height": 204
        },
        "id": "gZ3Aw7PGXzxS",
        "outputId": "9a3158d8-85a4-4a47-a9d7-203b51437ddd"
      }
    },
    {
      "cell_type": "code",
      "execution_count": 36,
      "source": [
        "import time\r\n",
        "\r\n",
        "outfilebase = time.strftime(\"%Y%m%d-%H%M%S\", time.gmtime(time.time()))\r\n",
        "\r\n",
        "outputfile = outfilebase + '_' + outputfile_name\r\n",
        "\r\n",
        "df_prediction.to_csv(outputfile)"
      ],
      "outputs": [],
      "metadata": {
        "id": "niYf_nJcYv-B"
      }
    }
  ]
}