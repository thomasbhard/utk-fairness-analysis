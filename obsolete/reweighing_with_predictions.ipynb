{
 "cells": [
  {
   "cell_type": "markdown",
   "metadata": {},
   "source": [
    "# Reweighing TEST\n",
    "\n",
    "Trying to calculate the sample weights for all race_gender subgroup (one vs all) and calculating the mean for all subgroups over all sampleweights"
   ]
  },
  {
   "cell_type": "code",
   "execution_count": 1,
   "metadata": {},
   "outputs": [],
   "source": [
    "from IPython.display import display, Markdown, Latex\n",
    "import numpy as np\n",
    "import pandas as pd\n",
    "\n",
    "import matplotlib.pyplot as plt\n",
    "import seaborn as sns\n",
    "sns.set()\n",
    "\n",
    "from IPython.display import set_matplotlib_formats\n",
    "\n",
    "set_matplotlib_formats('svg')\n",
    "colors = ['#edf8e9','#c7e9c0','#a1d99b','#74c476','#31a354','#006d2c']\n",
    "\n",
    "\n",
    "SAVE_PLOTS = False\n",
    "\n",
    "\n",
    "dataset_dict = {\n",
    "    'race_id': {\n",
    "        0: 'white', \n",
    "        1: 'black', \n",
    "        2: 'asian', \n",
    "        3: 'indian', \n",
    "        4: 'others'\n",
    "    },\n",
    "    'gender_id': {\n",
    "        0: 'male',\n",
    "        1: 'female'\n",
    "    },\n",
    "    'age_id': {\n",
    "        0: '<10',\n",
    "        1: '10-20',\n",
    "        2: '20-30',\n",
    "        3: '30-40',\n",
    "        4: '40-60',\n",
    "        5: '60-80',\n",
    "        6: '80+'\n",
    "    }\n",
    "}\n",
    "\n",
    "dataset_dict['gender_alias'] = dict((g, i) for i, g in dataset_dict['gender_id'].items())\n",
    "dataset_dict['race_alias'] = dict((r, i) for i, r in dataset_dict['race_id'].items())\n",
    "dataset_dict['age_alias'] = dict((a, i) for i, a in dataset_dict['age_id'].items())"
   ]
  },
  {
   "cell_type": "code",
   "execution_count": 2,
   "metadata": {},
   "outputs": [],
   "source": [
    "# read csv with predictions from the model\n",
    "predictions_path = r\"C:\\Users\\thoma\\Documents\\_FAIRALGOS\\utk-fairness-analysis\\Predictions\\df_predctions_all.csv\"\n",
    "df_predictions = pd.read_csv(predictions_path, index_col=0)\n",
    "\n",
    "# analysis with regard to the gender prediction only -> dropping age and race predictions\n",
    "df_bld = df_predictions.drop(columns=['age_pred', 'race_pred']).rename(columns={'age_true': 'age', 'race_true': 'race'})\n",
    "\n",
    "# transforming gender_true and gender_pred into a single attribute if the prediction was correct\n",
    "pred_true = []\n",
    "for i, row in df_bld.iterrows():\n",
    "    if(row['gender_true'] == row['gender_pred']):\n",
    "        pred_true.append(1)\n",
    "    else:\n",
    "        pred_true.append(0)\n",
    "\n",
    "df_bld['pred_true'] = pred_true\n",
    "df_bld = df_bld.drop(columns=['gender_pred']).rename(columns={'gender_true': 'gender'})\n",
    "\n",
    "bins = [0, 10, 20, 30, 40, 60, 80, np.inf]\n",
    "# cutting the age into bins\n",
    "age_binned = pd.cut(df_bld['age'], bins, labels=[0,1,2,3,4,5,6])\n",
    "df_bld['age'] = age_binned"
   ]
  },
  {
   "cell_type": "code",
   "execution_count": 19,
   "metadata": {},
   "outputs": [],
   "source": [
    "# one vs rest groupings\n",
    "def one_vs_rest_df(df, conditions={'race': 1, 'gender': 1}):\n",
    "    # conditions is a dictionary with column - value pairs\n",
    "\n",
    "    # 1 equals rest, 0 equals subgroup\n",
    "    groups = []\n",
    "    for i, row in df.iterrows():\n",
    "        group = 0 # assume subgroup until on condition fails\n",
    "        for column, value in conditions.items():\n",
    "            if(row[column] != value):\n",
    "                group = 1\n",
    "                break\n",
    "        groups.append(group)\n",
    "\n",
    "    new_df = df.copy()\n",
    "    new_df['group'] = groups\n",
    "\n",
    "    return new_df"
   ]
  },
  {
   "cell_type": "code",
   "execution_count": 20,
   "metadata": {},
   "outputs": [
    {
     "name": "stdout",
     "output_type": "stream",
     "text": [
      "7040\n",
      "7040\n",
      "7040\n",
      "7040\n",
      "7040\n",
      "7040\n",
      "7040\n",
      "7040\n",
      "7040\n",
      "7040\n"
     ]
    }
   ],
   "source": [
    "from aif360.datasets import BinaryLabelDataset\n",
    "from aif360.algorithms.preprocessing import Reweighing\n",
    "\n",
    "weights = []\n",
    "\n",
    "for gender_id, gender_alias in dataset_dict['gender_id'].items():\n",
    "    for race_id, race_alias in dataset_dict['race_id'].items():\n",
    "        df_sub = one_vs_rest_df(df_bld, conditions={'race': race_id, 'gender': gender_id})\n",
    "        bld = BinaryLabelDataset(favorable_label=1, unfavorable_label=0, df=df_sub, label_names=['pred_true'], protected_attribute_names=['race', 'age', 'gender','group'])\n",
    "        RW = Reweighing([{'group': 0}], [{'group': 1}])\n",
    "        RW.fit(bld)\n",
    "        bld_transformed = RW.transform(bld)\n",
    "        w_train = bld_transformed.instance_weights.ravel()\n",
    "        print(len(w_train))\n",
    "        weights.append(w_train)"
   ]
  },
  {
   "cell_type": "code",
   "execution_count": 35,
   "metadata": {},
   "outputs": [
    {
     "name": "stdout",
     "output_type": "stream",
     "text": [
      "{'female': {'white': {'weight': 1.0000859768999493, 'total': 1388}, 'black': {'weight': 1.0000947320909475, 'total': 655}, 'asian': {'weight': 0.9996453453531876, 'total': 568}, 'indian': {'weight': 1.000131283142888, 'total': 523}, 'others': {'weight': 1.0001248417406206, 'total': 298}}, 'male': {'white': {'weight': 1.00007922120209, 'total': 1616}, 'black': {'weight': 0.9998653674745138, 'total': 681}, 'asian': {'weight': 0.999727850814823, 'total': 459}, 'indian': {'weight': 0.9999673852528987, 'total': 637}, 'others': {'weight': 1.0001095340344832, 'total': 215}}}\n"
     ]
    }
   ],
   "source": [
    "weigths_mean = np.mean(weights, axis=0)\n",
    "\n",
    "df_bld['weights'] = weigths_mean\n",
    "\n",
    "\n",
    "acc_weights = {'female': {'white': {'weight': 0, 'total': 0}, 'black': {'weight': 0, 'total': 0}, 'asian': {'weight': 0, 'total': 0}, 'indian': {'weight': 0, 'total': 0}, 'others': {'weight': 0, 'total': 0}}, 'male': {\n",
    "    'white': {'weight': 0, 'total': 0}, 'black': {'weight': 0, 'total': 0}, 'asian': {'weight': 0, 'total': 0}, 'indian': {'weight': 0, 'total': 0}, 'others': {'weight': 0, 'total': 0}}}\n",
    "\n",
    "\n",
    "for i, row in df_bld.iterrows():\n",
    "    gender = dataset_dict['gender_id'][row['gender']]\n",
    "    race = dataset_dict['race_id'][row['race']]\n",
    "    weight = row['weights']\n",
    "\n",
    "    acc_weights[gender][race]['weight'] += weight\n",
    "    acc_weights[gender][race]['total'] += 1\n",
    "\n",
    "\n",
    "for gender_id, gender_alias in dataset_dict['gender_id'].items():\n",
    "    for race_id, race_alias in dataset_dict['race_id'].items():\n",
    "\n",
    "        total = acc_weights[gender_alias][race_alias]['total'] \n",
    "        acc_weights[gender_alias][race_alias]['weight'] /= total\n",
    "\n",
    "\n",
    "print(acc_weights)\n",
    "\n",
    "\n"
   ]
  }
 ],
 "metadata": {
  "interpreter": {
   "hash": "41a84036aa604917d7497ee77bf20aadd6bf6e037d12a4d13ab984fb2ace29af"
  },
  "kernelspec": {
   "display_name": "Python 3.7.6 64-bit",
   "name": "python3"
  },
  "language_info": {
   "codemirror_mode": {
    "name": "ipython",
    "version": 3
   },
   "file_extension": ".py",
   "mimetype": "text/x-python",
   "name": "python",
   "nbconvert_exporter": "python",
   "pygments_lexer": "ipython3",
   "version": "3.7.6"
  },
  "orig_nbformat": 4
 },
 "nbformat": 4,
 "nbformat_minor": 2
}
