{
 "cells": [
  {
   "cell_type": "markdown",
   "source": [
    "# Reweighing TEST\r\n",
    "\r\n",
    "Trying to calculate the sample weights for all race_gender subgroup (one vs all) and calculating the mean for all subgroups over all sampleweights"
   ],
   "metadata": {}
  },
  {
   "cell_type": "code",
   "execution_count": 1,
   "source": [
    "from IPython.display import display, Markdown, Latex\r\n",
    "import numpy as np\r\n",
    "import pandas as pd\r\n",
    "\r\n",
    "import matplotlib.pyplot as plt\r\n",
    "import seaborn as sns\r\n",
    "sns.set()\r\n",
    "\r\n",
    "from IPython.display import set_matplotlib_formats\r\n",
    "\r\n",
    "set_matplotlib_formats('svg')\r\n",
    "colors = ['#edf8e9','#c7e9c0','#a1d99b','#74c476','#31a354','#006d2c']\r\n",
    "\r\n",
    "\r\n",
    "SAVE_PLOTS = False\r\n",
    "\r\n",
    "\r\n",
    "dataset_dict = {\r\n",
    "    'race_id': {\r\n",
    "        0: 'white', \r\n",
    "        1: 'black', \r\n",
    "        2: 'asian', \r\n",
    "        3: 'indian', \r\n",
    "        4: 'others'\r\n",
    "    },\r\n",
    "    'gender_id': {\r\n",
    "        0: 'male',\r\n",
    "        1: 'female'\r\n",
    "    },\r\n",
    "    'age_id': {\r\n",
    "        0: '<10',\r\n",
    "        1: '10-20',\r\n",
    "        2: '20-30',\r\n",
    "        3: '30-40',\r\n",
    "        4: '40-60',\r\n",
    "        5: '60-80',\r\n",
    "        6: '80+'\r\n",
    "    }\r\n",
    "}\r\n",
    "\r\n",
    "dataset_dict['gender_alias'] = dict((g, i) for i, g in dataset_dict['gender_id'].items())\r\n",
    "dataset_dict['race_alias'] = dict((r, i) for i, r in dataset_dict['race_id'].items())\r\n",
    "dataset_dict['age_alias'] = dict((a, i) for i, a in dataset_dict['age_id'].items())"
   ],
   "outputs": [],
   "metadata": {}
  },
  {
   "cell_type": "code",
   "execution_count": 2,
   "source": [
    "# read csv with predictions from the model\r\n",
    "predictions_path = r\"C:\\Users\\thoma\\Documents\\_FAIRALGOS\\utk-fairness-analysis\\Predictions\\df_predctions_all.csv\"\r\n",
    "df_predictions = pd.read_csv(predictions_path, index_col=0)\r\n",
    "\r\n",
    "# analysis with regard to the gender prediction only -> dropping age and race predictions\r\n",
    "df_bld = df_predictions.drop(columns=['age_pred', 'race_pred']).rename(columns={'age_true': 'age', 'race_true': 'race'})\r\n",
    "\r\n",
    "# transforming gender_true and gender_pred into a single attribute if the prediction was correct\r\n",
    "pred_true = []\r\n",
    "for i, row in df_bld.iterrows():\r\n",
    "    if(row['gender_true'] == row['gender_pred']):\r\n",
    "        pred_true.append(1)\r\n",
    "    else:\r\n",
    "        pred_true.append(0)\r\n",
    "\r\n",
    "df_bld['pred_true'] = pred_true\r\n",
    "df_bld = df_bld.drop(columns=['gender_pred']).rename(columns={'gender_true': 'gender'})\r\n",
    "\r\n",
    "bins = [0, 10, 20, 30, 40, 60, 80, np.inf]\r\n",
    "# cutting the age into bins\r\n",
    "age_binned = pd.cut(df_bld['age'], bins, labels=[0,1,2,3,4,5,6])\r\n",
    "df_bld['age'] = age_binned"
   ],
   "outputs": [],
   "metadata": {}
  },
  {
   "cell_type": "code",
   "execution_count": 19,
   "source": [
    "# one vs rest groupings\r\n",
    "def one_vs_rest_df(df, conditions={'race': 1, 'gender': 1}):\r\n",
    "    # conditions is a dictionary with column - value pairs\r\n",
    "\r\n",
    "    # 1 equals rest, 0 equals subgroup\r\n",
    "    groups = []\r\n",
    "    for i, row in df.iterrows():\r\n",
    "        group = 0 # assume subgroup until on condition fails\r\n",
    "        for column, value in conditions.items():\r\n",
    "            if(row[column] != value):\r\n",
    "                group = 1\r\n",
    "                break\r\n",
    "        groups.append(group)\r\n",
    "\r\n",
    "    new_df = df.copy()\r\n",
    "    new_df['group'] = groups\r\n",
    "\r\n",
    "    return new_df"
   ],
   "outputs": [],
   "metadata": {}
  },
  {
   "cell_type": "code",
   "execution_count": 20,
   "source": [
    "from aif360.datasets import BinaryLabelDataset\r\n",
    "from aif360.algorithms.preprocessing import Reweighing\r\n",
    "\r\n",
    "weights = []\r\n",
    "\r\n",
    "for gender_id, gender_alias in dataset_dict['gender_id'].items():\r\n",
    "    for race_id, race_alias in dataset_dict['race_id'].items():\r\n",
    "        df_sub = one_vs_rest_df(df_bld, conditions={'race': race_id, 'gender': gender_id})\r\n",
    "        bld = BinaryLabelDataset(favorable_label=1, unfavorable_label=0, df=df_sub, label_names=['pred_true'], protected_attribute_names=['race', 'age', 'gender','group'])\r\n",
    "        RW = Reweighing([{'group': 0}], [{'group': 1}])\r\n",
    "        RW.fit(bld)\r\n",
    "        bld_transformed = RW.transform(bld)\r\n",
    "        w_train = bld_transformed.instance_weights.ravel()\r\n",
    "        print(len(w_train))\r\n",
    "        weights.append(w_train)"
   ],
   "outputs": [
    {
     "output_type": "stream",
     "name": "stdout",
     "text": [
      "7040\n",
      "7040\n",
      "7040\n",
      "7040\n",
      "7040\n",
      "7040\n",
      "7040\n",
      "7040\n",
      "7040\n",
      "7040\n"
     ]
    }
   ],
   "metadata": {}
  },
  {
   "cell_type": "code",
   "execution_count": 35,
   "source": [
    "weigths_mean = np.mean(weights, axis=0)\r\n",
    "\r\n",
    "df_bld['weights'] = weigths_mean\r\n",
    "\r\n",
    "\r\n",
    "acc_weights = {'female': {'white': {'weight': 0, 'total': 0}, 'black': {'weight': 0, 'total': 0}, 'asian': {'weight': 0, 'total': 0}, 'indian': {'weight': 0, 'total': 0}, 'others': {'weight': 0, 'total': 0}}, 'male': {\r\n",
    "    'white': {'weight': 0, 'total': 0}, 'black': {'weight': 0, 'total': 0}, 'asian': {'weight': 0, 'total': 0}, 'indian': {'weight': 0, 'total': 0}, 'others': {'weight': 0, 'total': 0}}}\r\n",
    "\r\n",
    "\r\n",
    "for i, row in df_bld.iterrows():\r\n",
    "    gender = dataset_dict['gender_id'][row['gender']]\r\n",
    "    race = dataset_dict['race_id'][row['race']]\r\n",
    "    weight = row['weights']\r\n",
    "\r\n",
    "    acc_weights[gender][race]['weight'] += weight\r\n",
    "    acc_weights[gender][race]['total'] += 1\r\n",
    "\r\n",
    "\r\n",
    "for gender_id, gender_alias in dataset_dict['gender_id'].items():\r\n",
    "    for race_id, race_alias in dataset_dict['race_id'].items():\r\n",
    "\r\n",
    "        total = acc_weights[gender_alias][race_alias]['total'] \r\n",
    "        acc_weights[gender_alias][race_alias]['weight'] /= total\r\n",
    "\r\n",
    "\r\n",
    "print(acc_weights)\r\n",
    "\r\n",
    "\r\n"
   ],
   "outputs": [
    {
     "output_type": "stream",
     "name": "stdout",
     "text": [
      "{'female': {'white': {'weight': 1.0000859768999493, 'total': 1388}, 'black': {'weight': 1.0000947320909475, 'total': 655}, 'asian': {'weight': 0.9996453453531876, 'total': 568}, 'indian': {'weight': 1.000131283142888, 'total': 523}, 'others': {'weight': 1.0001248417406206, 'total': 298}}, 'male': {'white': {'weight': 1.00007922120209, 'total': 1616}, 'black': {'weight': 0.9998653674745138, 'total': 681}, 'asian': {'weight': 0.999727850814823, 'total': 459}, 'indian': {'weight': 0.9999673852528987, 'total': 637}, 'others': {'weight': 1.0001095340344832, 'total': 215}}}\n"
     ]
    }
   ],
   "metadata": {}
  }
 ],
 "metadata": {
  "orig_nbformat": 4,
  "language_info": {
   "name": "python",
   "version": "3.7.6",
   "mimetype": "text/x-python",
   "codemirror_mode": {
    "name": "ipython",
    "version": 3
   },
   "pygments_lexer": "ipython3",
   "nbconvert_exporter": "python",
   "file_extension": ".py"
  },
  "kernelspec": {
   "name": "python3",
   "display_name": "Python 3.7.6 64-bit"
  },
  "interpreter": {
   "hash": "41a84036aa604917d7497ee77bf20aadd6bf6e037d12a4d13ab984fb2ace29af"
  }
 },
 "nbformat": 4,
 "nbformat_minor": 2
}